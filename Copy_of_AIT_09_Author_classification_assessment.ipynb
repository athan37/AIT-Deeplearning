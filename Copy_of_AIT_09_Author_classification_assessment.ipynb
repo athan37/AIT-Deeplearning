{
  "cells": [
    {
      "cell_type": "markdown",
      "metadata": {
        "id": "view-in-github",
        "colab_type": "text"
      },
      "source": [
        "<a href=\"https://colab.research.google.com/github/athan37/AIT-Deeplearning/blob/main/Copy_of_AIT_09_Author_classification_assessment.ipynb\" target=\"_parent\"><img src=\"https://colab.research.google.com/assets/colab-badge.svg\" alt=\"Open In Colab\"/></a>"
      ]
    },
    {
      "cell_type": "markdown",
      "metadata": {
        "id": "_jiGtJu6u9ml"
      },
      "source": [
        "# Copyright\n",
        "\n",
        "<PRE>\n",
        "Copyright (c) 2023 Bálint Gyires-Tóth - All Rights Reserved\n",
        "You may use and modify this code for research and development purpuses.\n",
        "Use this code for educational purposes (self-paced or instructor led) without the permission of the author is prohibited.\n",
        "</PRE>"
      ]
    },
    {
      "cell_type": "markdown",
      "metadata": {
        "id": "oXyFC44jV-PP"
      },
      "source": [
        "# Author classification\n",
        "The task is to train a 1D CNN or an LSTM that is able to  classify text from two authors. The final model should be able to tell about a text with a given length (e.g. 60 characters) who wrote it. \n",
        "\n",
        "Please write the codes according to the following parts:"
      ]
    },
    {
      "cell_type": "markdown",
      "metadata": {
        "id": "jCnLoeGrHXsp"
      },
      "source": [
        "## Python module imports\n",
        "Import all Python modules that you would need during the Assignment."
      ]
    },
    {
      "cell_type": "code",
      "execution_count": 1,
      "metadata": {
        "id": "7itbFGt3HXVT"
      },
      "outputs": [],
      "source": [
        "from tensorflow.keras.models import Sequential\n",
        "from tensorflow.keras.layers import Dense, Activation, Dropout\n",
        "from tensorflow.keras.layers import LSTM\n",
        "from tensorflow.keras.optimizers import RMSprop\n",
        "from urllib.request import urlretrieve\n",
        "import numpy as np\n",
        "import random\n",
        "import sys\n",
        "import re, cgi"
      ]
    },
    {
      "cell_type": "markdown",
      "metadata": {
        "id": "Hr617tEpHd8R"
      },
      "source": [
        "## Data acquisition\n",
        "Seek a possible dataset, you can use any source, e.g.\n",
        "* http://www.gutenberg.org/\n",
        "* https://www.kaggle.com/datasets\n",
        "* https://paperswithcode.com/datasets\n",
        "* if you would like to learn Hungarian, than e.g. https://mek.oszk.hu/\n",
        "\n",
        "You can download the text by hand (e.g. by copy-pasting some parts into txt files) or with Python. "
      ]
    },
    {
      "cell_type": "code",
      "execution_count": 2,
      "metadata": {
        "id": "NgkdQxHqHdZB",
        "colab": {
          "base_uri": "https://localhost:8080/"
        },
        "outputId": "6ec4b002-9616-4cad-84ff-934bd40962c2"
      },
      "outputs": [
        {
          "output_type": "stream",
          "name": "stdout",
          "text": [
            "Number of characters in the text 1: 170013\n",
            "Number of characters in the text 2: 486583\n"
          ]
        }
      ],
      "source": [
        "book1_url=\"https://www.gutenberg.org/cache/epub/70579/pg70579.txt\" #Elbert Hubbard\n",
        "urlretrieve(book1_url, 'book1.txt')\n",
        "\n",
        "path1 = \"book1.txt\"\n",
        "text1 = \"\"\n",
        "with open(path1, 'rb') as f:\n",
        "  text1 = f.read().lower().decode(\"utf-8\")\n",
        "\n",
        "book2_url=\"http://www.gutenberg.org/files/2151/2151-0.txt\" #someone else\n",
        "urlretrieve(book2_url, 'book2.txt')\n",
        "text2 = open(\"book2.txt\", encoding='utf-8').read().lower()\n",
        "\n",
        "print('Number of characters in the text 1:', len(text1))\n",
        "\n",
        "print('Number of characters in the text 2:', len(text2))"
      ]
    },
    {
      "cell_type": "markdown",
      "metadata": {
        "id": "U9Pmq91t3SRD"
      },
      "source": [
        "## Data analysis\n",
        "Count the number of characters from both authors and display them on a plot (e.g. Seaborn's countplot)."
      ]
    },
    {
      "cell_type": "code",
      "execution_count": 3,
      "metadata": {
        "id": "uRqGdn4F3Spk"
      },
      "outputs": [],
      "source": [
        "from collections import Counter \n",
        "\n",
        "\n",
        "counter1 = Counter(text1)\n",
        "counter2 = Counter(text2)  "
      ]
    },
    {
      "cell_type": "code",
      "execution_count": 4,
      "metadata": {
        "id": "A6jl_xrbXziQ"
      },
      "outputs": [],
      "source": [
        "import matplotlib.pyplot as plt\n",
        "import seaborn as sns\n",
        "import pandas as pd"
      ]
    },
    {
      "cell_type": "code",
      "execution_count": 5,
      "metadata": {
        "id": "UVJGEaWYXARW",
        "colab": {
          "base_uri": "https://localhost:8080/",
          "height": 466
        },
        "outputId": "b704ae12-9634-439f-b90d-1794777aee1b"
      },
      "outputs": [
        {
          "output_type": "execute_result",
          "data": {
            "text/plain": [
              "Text(0.5, 1.0, 'Author 1 characters')"
            ]
          },
          "metadata": {},
          "execution_count": 5
        },
        {
          "output_type": "display_data",
          "data": {
            "text/plain": [
              "<Figure size 640x480 with 1 Axes>"
            ],
            "image/png": "[encoded data removed]"
          },
          "metadata": {}
        }
      ],
      "source": [
        "ax = sns.countplot(x=list(counter1.elements()))\n",
        "\n",
        "# remove xticks and xlabels\n",
        "ax.set(xticks=[], xlabel=\"Characters\")\n",
        "plt.title(\"Author 1 characters\")"
      ]
    },
    {
      "cell_type": "code",
      "execution_count": 6,
      "metadata": {
        "id": "itn8UNKDWJKB",
        "colab": {
          "base_uri": "https://localhost:8080/",
          "height": 466
        },
        "outputId": "53d9fa66-3276-414f-fe7c-945b42eafec5"
      },
      "outputs": [
        {
          "output_type": "execute_result",
          "data": {
            "text/plain": [
              "Text(0.5, 1.0, 'Author 2 characters')"
            ]
          },
          "metadata": {},
          "execution_count": 6
        },
        {
          "output_type": "display_data",
          "data": {
            "text/plain": [
              "<Figure size 640x480 with 1 Axes>"
            ],
            "image/png": "[encoded data removed]"
          },
          "metadata": {}
        }
      ],
      "source": [
        "\n",
        "ax2 = sns.countplot(x=list(counter2.elements()))\n",
        "\n",
        "# remove xticks and xlabels\n",
        "ax2.set(xticks=[], xlabel=\"Characters\")\n",
        "plt.title(\"Author 2 characters\")"
      ]
    },
    {
      "cell_type": "markdown",
      "metadata": {
        "id": "cHyE_ndGIblJ"
      },
      "source": [
        "## Data loading, labeling and preprocessing\n",
        "Load the data and convert the characters into one-hot encodings. Then load the data into a 3D NumPy array, with a shape of\n",
        "\n",
        "* (batch, sequence_length, alphabet_length)\n",
        "\n",
        "where sequence_length=60, and alphabet_length equals to the number of unique characters in both datasets. The sequences should be cut out from the complete dataset by sliding window. You should add 0 and 1 labels to the sequences, according to the author. \n",
        "\n",
        "Later you may change sequence_length to achieve better results!"
      ]
    },
    {
      "cell_type": "code",
      "execution_count": 7,
      "metadata": {
        "id": "arooXt0WIb6x",
        "colab": {
          "base_uri": "https://localhost:8080/"
        },
        "outputId": "b3fbaac3-8590-4189-ba96-7dda5049eba9"
      },
      "outputs": [
        {
          "output_type": "stream",
          "name": "stdout",
          "text": [
            "Unique characters of the book 1: 67\n",
            "Unique characters of the book 2: 96\n"
          ]
        }
      ],
      "source": [
        "chars1 = sorted(list(set(text1)))\n",
        "print('Unique characters of the book 1:', len(chars1))\n",
        "\n",
        "chars2 = sorted(list(set(text2)))\n",
        "print('Unique characters of the book 2:', len(chars2))"
      ]
    },
    {
      "cell_type": "code",
      "execution_count": 8,
      "metadata": {
        "id": "qo3yVwgvaVrr"
      },
      "outputs": [],
      "source": [
        "#Expand the corpus and one hot\n",
        "chars = set(chars1) | set(chars2)"
      ]
    },
    {
      "cell_type": "code",
      "execution_count": 9,
      "metadata": {
        "id": "k9ul3KhmbG5Z"
      },
      "outputs": [],
      "source": [
        "from sklearn.model_selection import train_test_split\n",
        "def preprocess(text, author, maxlen=64, step=10, chars = chars):\n",
        "  char_indices = dict((c, i) for i, c in enumerate(chars))\n",
        "  indices_char = dict((i, c) for i, c in enumerate(chars))\n",
        "\n",
        "  print (\"Indices to char dictionary:\", indices_char)\n",
        "\n",
        "  sentences  = [] # maxlen number of characters, with \"step\" overlap between two \"sentences\" \n",
        "  next_chars = [] # the next character\n",
        "\n",
        "  for i in range(0, len(text)-maxlen, step):\n",
        "      sentences.append(text[i:i+maxlen])\n",
        "      next_chars.append(text[i+maxlen])\n",
        "\n",
        "  print('Number of training samples:', len(sentences))\n",
        "\n",
        "  X = np.zeros((len(sentences), maxlen, len(chars)))\n",
        "  y = np.zeros(len(sentences)) if author == 0 else np.ones(len(sentences))\n",
        "\n",
        "  for i, sentence in enumerate(sentences):\n",
        "      for t, char in enumerate(sentence): \n",
        "          X[i,t,char_indices[char]] = 1\n",
        "\n",
        "  print(\"Shape of the input data:\", X.shape)\n",
        "  print(\"Shape of the target data:\", y.shape)\n",
        "\n",
        "  return train_test_split(X, y, test_size=0.2, random_state=42)"
      ]
    },
    {
      "cell_type": "markdown",
      "metadata": {
        "id": "lL1Mc8ibHnep"
      },
      "source": [
        "## Data splitting\n",
        "Split the data into train, validate and test sets. Make "
      ]
    },
    {
      "cell_type": "code",
      "execution_count": 10,
      "metadata": {
        "id": "ELyG9XFUHrkB",
        "colab": {
          "base_uri": "https://localhost:8080/"
        },
        "outputId": "5b40a777-350c-411a-801c-8e4562ab3fc0"
      },
      "outputs": [
        {
          "output_type": "stream",
          "name": "stdout",
          "text": [
            "Indices to char dictionary: {0: ';', 1: 'x', 2: '—', 3: 'ν', 4: 'ξ', 5: 'k', 6: ':', 7: '“', 8: '•', 9: 'π', 10: 'o', 11: 'f', 12: 'é', 13: 'ι', 14: '#', 15: '/', 16: 's', 17: 'h', 18: '(', 19: 'ê', 20: '%', 21: 'd', 22: 'u', 23: 'n', 24: 'ü', 25: 'z', 26: '$', 27: 'g', 28: 'j', 29: 'r', 30: '❦', 31: '3', 32: 'ú', 33: ']', 34: 'è', 35: 'ρ', 36: 'œ', 37: '*', 38: 't', 39: '0', 40: 'ö', 41: 'ῆ', 42: '6', 43: 'e', 44: 'λ', 45: 'ῦ', 46: \"'\", 47: 'i', 48: '?', 49: 'a', 50: 'w', 51: '&', 52: '=', 53: 'α', 54: 'v', 55: '8', 56: ' ', 57: 'τ', 58: '‘', 59: 'æ', 60: '™', 61: 'b', 62: '’', 63: 'c', 64: 'à', 65: 'ς', 66: '-', 67: '\\n', 68: '4', 69: '.', 70: '\\r', 71: '2', 72: '”', 73: 'â', 74: 'y', 75: '9', 76: 'σ', 77: '1', 78: '!', 79: 'η', 80: '_', 81: 'ε', 82: 'q', 83: ',', 84: 'χ', 85: '[', 86: 'l', 87: '¶', 88: '7', 89: 'ο', 90: 'υ', 91: 'γ', 92: '}', 93: '5', 94: 'p', 95: '\\ufeff', 96: '{', 97: 'δ', 98: 'm', 99: ')'}\n",
            "Number of training samples: 16995\n",
            "Shape of the input data: (16995, 64, 100)\n",
            "Shape of the target data: (16995,)\n",
            "Indices to char dictionary: {0: ';', 1: 'x', 2: '—', 3: 'ν', 4: 'ξ', 5: 'k', 6: ':', 7: '“', 8: '•', 9: 'π', 10: 'o', 11: 'f', 12: 'é', 13: 'ι', 14: '#', 15: '/', 16: 's', 17: 'h', 18: '(', 19: 'ê', 20: '%', 21: 'd', 22: 'u', 23: 'n', 24: 'ü', 25: 'z', 26: '$', 27: 'g', 28: 'j', 29: 'r', 30: '❦', 31: '3', 32: 'ú', 33: ']', 34: 'è', 35: 'ρ', 36: 'œ', 37: '*', 38: 't', 39: '0', 40: 'ö', 41: 'ῆ', 42: '6', 43: 'e', 44: 'λ', 45: 'ῦ', 46: \"'\", 47: 'i', 48: '?', 49: 'a', 50: 'w', 51: '&', 52: '=', 53: 'α', 54: 'v', 55: '8', 56: ' ', 57: 'τ', 58: '‘', 59: 'æ', 60: '™', 61: 'b', 62: '’', 63: 'c', 64: 'à', 65: 'ς', 66: '-', 67: '\\n', 68: '4', 69: '.', 70: '\\r', 71: '2', 72: '”', 73: 'â', 74: 'y', 75: '9', 76: 'σ', 77: '1', 78: '!', 79: 'η', 80: '_', 81: 'ε', 82: 'q', 83: ',', 84: 'χ', 85: '[', 86: 'l', 87: '¶', 88: '7', 89: 'ο', 90: 'υ', 91: 'γ', 92: '}', 93: '5', 94: 'p', 95: '\\ufeff', 96: '{', 97: 'δ', 98: 'm', 99: ')'}\n",
            "Number of training samples: 48652\n",
            "Shape of the input data: (48652, 64, 100)\n",
            "Shape of the target data: (48652,)\n"
          ]
        }
      ],
      "source": [
        "X_train1, X_test1, y_train1, y_test1 = preprocess(text1, 0)\n",
        "X_train2, X_test2, y_train2, y_test2 = preprocess(text2, 1)\n",
        "\n",
        "X_train = np.concatenate((X_train1, X_train2))\n",
        "X_test = np.concatenate((X_test1, X_test2))\n",
        "y_train = np.concatenate((y_train1, y_train2))\n",
        "y_test = np.concatenate((y_test1, y_test2))\n",
        "\n",
        "#Reshuffle\n",
        "num_train_samples = X_train.shape[0]\n",
        "\n",
        "train_indices = np.random.permutation(num_train_samples)\n",
        "\n",
        "X_train = X_train[train_indices]\n",
        "y_train = y_train[train_indices]\n",
        "\n",
        "train_ratio  = 0.8\n",
        "train_length = X_train.shape[0]\n",
        "train_split  = int(train_ratio*train_length)\n",
        "X_valid, y_valid = X_train[train_split:], y_train[train_split:]\n",
        "X_train, y_train = X_train[:train_split], y_train[:train_split]"
      ]
    },
    {
      "cell_type": "markdown",
      "metadata": {
        "id": "hA8U9tr7HrNQ"
      },
      "source": [
        "## Model definition\n",
        "Define a 1D CNN or an LSTM for the task. Compile the model with the correct loss function."
      ]
    },
    {
      "cell_type": "code",
      "execution_count": 11,
      "metadata": {
        "id": "BT1V1s4kHuUe"
      },
      "outputs": [],
      "source": [
        "model = Sequential()\n",
        "model.add(LSTM(128, input_shape=(X_train.shape[-2], X_train.shape[-1]))) # (batch, 128)\n",
        "model.add(Dense(1, activation ='sigmoid'))"
      ]
    },
    {
      "cell_type": "markdown",
      "metadata": {
        "id": "hWFb-nAMHuAI"
      },
      "source": [
        "## Model training\n",
        "Train the model and apply early stopping."
      ]
    },
    {
      "cell_type": "code",
      "execution_count": 12,
      "metadata": {
        "id": "dvgKjqp3Hwkp"
      },
      "outputs": [],
      "source": [
        "model.compile(optimizer='adam', loss='binary_crossentropy', metrics=['accuracy'])"
      ]
    },
    {
      "cell_type": "markdown",
      "metadata": {
        "id": "0omw2XzSHwOo"
      },
      "source": [
        "## Evaluation on test data\n",
        "Evaluate the model on the test data in terms of loss and accuracy."
      ]
    },
    {
      "cell_type": "code",
      "execution_count": 13,
      "metadata": {
        "colab": {
          "base_uri": "https://localhost:8080/"
        },
        "id": "4bF3dQA1Hv_R",
        "outputId": "8998c045-f46a-4089-e377-83c2cf9cfa9a"
      },
      "outputs": [
        {
          "output_type": "stream",
          "name": "stdout",
          "text": [
            "Epoch 1/10000\n",
            "329/329 [==============================] - 12s 14ms/step - loss: 0.4216 - accuracy: 0.7756 - val_loss: 0.2439 - val_accuracy: 0.8900\n",
            "Epoch 2/10000\n",
            "329/329 [==============================] - 3s 10ms/step - loss: 0.2367 - accuracy: 0.9048 - val_loss: 0.2264 - val_accuracy: 0.9115\n",
            "Epoch 3/10000\n",
            "329/329 [==============================] - 3s 9ms/step - loss: 0.4114 - accuracy: 0.8261 - val_loss: 0.5428 - val_accuracy: 0.7549\n",
            "Epoch 4/10000\n",
            "329/329 [==============================] - 3s 9ms/step - loss: 0.4331 - accuracy: 0.7979 - val_loss: 0.2046 - val_accuracy: 0.9078\n",
            "Epoch 5/10000\n",
            "329/329 [==============================] - 3s 9ms/step - loss: 0.1484 - accuracy: 0.9386 - val_loss: 0.0837 - val_accuracy: 0.9708\n",
            "Epoch 6/10000\n",
            "329/329 [==============================] - 4s 11ms/step - loss: 0.1237 - accuracy: 0.9469 - val_loss: 1.1699 - val_accuracy: 0.7694\n",
            "Epoch 7/10000\n",
            "329/329 [==============================] - 3s 9ms/step - loss: 0.1899 - accuracy: 0.9249 - val_loss: 0.0606 - val_accuracy: 0.9758\n",
            "Epoch 8/10000\n",
            "329/329 [==============================] - 3s 10ms/step - loss: 0.0685 - accuracy: 0.9708 - val_loss: 0.0641 - val_accuracy: 0.9655\n",
            "Epoch 9/10000\n",
            "329/329 [==============================] - 3s 9ms/step - loss: 0.0578 - accuracy: 0.9744 - val_loss: 0.0531 - val_accuracy: 0.9761\n",
            "Epoch 10/10000\n",
            "329/329 [==============================] - 3s 10ms/step - loss: 0.0518 - accuracy: 0.9762 - val_loss: 0.0474 - val_accuracy: 0.9794\n",
            "Epoch 11/10000\n",
            "329/329 [==============================] - 3s 9ms/step - loss: 0.0499 - accuracy: 0.9769 - val_loss: 0.0457 - val_accuracy: 0.9800\n",
            "Epoch 12/10000\n",
            "329/329 [==============================] - 3s 9ms/step - loss: 0.0709 - accuracy: 0.9745 - val_loss: 0.0628 - val_accuracy: 0.9770\n",
            "Epoch 13/10000\n",
            "329/329 [==============================] - 3s 9ms/step - loss: 0.0523 - accuracy: 0.9772 - val_loss: 0.0455 - val_accuracy: 0.9793\n",
            "Epoch 14/10000\n",
            "329/329 [==============================] - 3s 10ms/step - loss: 0.0487 - accuracy: 0.9766 - val_loss: 0.0435 - val_accuracy: 0.9796\n",
            "Epoch 15/10000\n",
            "329/329 [==============================] - 3s 9ms/step - loss: 0.0437 - accuracy: 0.9787 - val_loss: 0.0427 - val_accuracy: 0.9806\n",
            "Epoch 16/10000\n",
            "329/329 [==============================] - 3s 9ms/step - loss: 0.0458 - accuracy: 0.9783 - val_loss: 0.0453 - val_accuracy: 0.9803\n",
            "Epoch 17/10000\n",
            "329/329 [==============================] - 3s 9ms/step - loss: 0.0440 - accuracy: 0.9774 - val_loss: 0.0425 - val_accuracy: 0.9799\n",
            "Epoch 18/10000\n",
            "329/329 [==============================] - 4s 11ms/step - loss: 0.0438 - accuracy: 0.9777 - val_loss: 0.0472 - val_accuracy: 0.9805\n",
            "Epoch 19/10000\n",
            "329/329 [==============================] - 3s 9ms/step - loss: 0.0431 - accuracy: 0.9796 - val_loss: 0.0405 - val_accuracy: 0.9820\n",
            "Epoch 20/10000\n",
            "329/329 [==============================] - 3s 11ms/step - loss: 0.0416 - accuracy: 0.9798 - val_loss: 0.0408 - val_accuracy: 0.9822\n",
            "Epoch 21/10000\n",
            "329/329 [==============================] - 3s 9ms/step - loss: 0.0452 - accuracy: 0.9789 - val_loss: 0.0404 - val_accuracy: 0.9822\n",
            "Epoch 22/10000\n",
            "329/329 [==============================] - 4s 11ms/step - loss: 0.0416 - accuracy: 0.9798 - val_loss: 0.0400 - val_accuracy: 0.9827\n",
            "Epoch 23/10000\n",
            "329/329 [==============================] - 3s 9ms/step - loss: 0.0401 - accuracy: 0.9809 - val_loss: 0.0396 - val_accuracy: 0.9829\n",
            "Epoch 24/10000\n",
            "329/329 [==============================] - 3s 10ms/step - loss: 0.0398 - accuracy: 0.9802 - val_loss: 0.0438 - val_accuracy: 0.9827\n",
            "Epoch 25/10000\n",
            "329/329 [==============================] - 4s 11ms/step - loss: 0.0398 - accuracy: 0.9808 - val_loss: 0.0407 - val_accuracy: 0.9827\n",
            "Epoch 26/10000\n",
            "329/329 [==============================] - 3s 10ms/step - loss: 0.0391 - accuracy: 0.9808 - val_loss: 0.0398 - val_accuracy: 0.9826\n",
            "Epoch 27/10000\n",
            "329/329 [==============================] - 3s 10ms/step - loss: 0.0390 - accuracy: 0.9811 - val_loss: 0.0391 - val_accuracy: 0.9828\n",
            "Epoch 28/10000\n",
            "329/329 [==============================] - 3s 10ms/step - loss: 0.0387 - accuracy: 0.9812 - val_loss: 0.0405 - val_accuracy: 0.9820\n"
          ]
        }
      ],
      "source": [
        "import tensorflow as tf\n",
        "from tensorflow.keras.callbacks import EarlyStopping\n",
        "es = tf.keras.callbacks.EarlyStopping(\n",
        "    monitor='val_accuracy',\n",
        "    patience=5,\n",
        "    restore_best_weights=True,\n",
        ")\n",
        "network_history = model.fit(X_train, y_train, \n",
        "                            validation_data=(X_valid,y_valid),\n",
        "                            batch_size=128,                             \n",
        "                            epochs=10000, \n",
        "                            verbose=1, \n",
        "                            callbacks=[es])"
      ]
    },
    {
      "cell_type": "markdown",
      "metadata": {
        "id": "4Y73Q-h5Hz1r"
      },
      "source": [
        "## Confusion matrix\n",
        "Calculate and display the confusion matrix."
      ]
    },
    {
      "cell_type": "code",
      "execution_count": 16,
      "metadata": {
        "id": "cW8zZi1uJm2B",
        "colab": {
          "base_uri": "https://localhost:8080/",
          "height": 537
        },
        "outputId": "902a88b4-b21b-4c18-9706-a0273de65bbe"
      },
      "outputs": [
        {
          "output_type": "stream",
          "name": "stdout",
          "text": [
            "411/411 [==============================] - 2s 3ms/step\n",
            "Accuracy: 0.9799695354150799\n",
            "Precision: 0.9753966659971882\n",
            "Recall: 0.9630351089799574\n",
            "F1: 0.9733089690788241\n"
          ]
        },
        {
          "output_type": "execute_result",
          "data": {
            "text/plain": [
              "<Axes: >"
            ]
          },
          "metadata": {},
          "execution_count": 16
        },
        {
          "output_type": "display_data",
          "data": {
            "text/plain": [
              "<Figure size 640x480 with 2 Axes>"
            ],
            "image/png": "[encoded data removed]"
          },
          "metadata": {}
        }
      ],
      "source": [
        "from sklearn.metrics import confusion_matrix\n",
        "from sklearn.metrics import accuracy_score, precision_score, recall_score, f1_score\n",
        "\n",
        "\n",
        "preds = model.predict(X_test)\n",
        "cm = confusion_matrix(y_test, np.rint(preds))\n",
        "\n",
        "print(\"Accuracy:\",accuracy_score(y_test, np.rint(preds)))\n",
        "print(\"Precision:\", precision_score(y_test, np.rint(preds)))\n",
        "print(\"Recall:\", recall_score(y_test, np.rint(preds), average='macro'))\n",
        "print(\"F1:\", f1_score(y_test, np.rint(preds), average='macro'))\n",
        "\n",
        "\n",
        "sns.heatmap(cm, annot=True, cmap='Blues', fmt='g')"
      ]
    }
  ],
  "metadata": {
    "colab": {
      "provenance": [],
      "include_colab_link": true
    },
    "kernelspec": {
      "display_name": "Python 3",
      "language": "python",
      "name": "python3"
    },
    "language_info": {
      "codemirror_mode": {
        "name": "ipython",
        "version": 3
      },
      "file_extension": ".py",
      "mimetype": "text/x-python",
      "name": "python",
      "nbconvert_exporter": "python",
      "pygments_lexer": "ipython3",
      "version": "3.6.6"
    },
    "accelerator": "GPU",
    "gpuClass": "standard"
  },
  "nbformat": 4,
  "nbformat_minor": 0
}