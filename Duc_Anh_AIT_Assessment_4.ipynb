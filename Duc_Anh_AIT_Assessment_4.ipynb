{
  "nbformat": 4,
  "nbformat_minor": 0,
  "metadata": {
    "anaconda-cloud": {},
    "kernelspec": {
      "display_name": "Python 3",
      "language": "python",
      "name": "python3"
    },
    "language_info": {
      "codemirror_mode": {
        "name": "ipython",
        "version": 3
      },
      "file_extension": ".py",
      "mimetype": "text/x-python",
      "name": "python",
      "nbconvert_exporter": "python",
      "pygments_lexer": "ipython3",
      "version": "3.6.6"
    },
    "colab": {
      "provenance": [],
      "include_colab_link": true
    },
    "accelerator": "GPU"
  },
  "cells": [
    {
      "cell_type": "markdown",
      "metadata": {
        "id": "view-in-github",
        "colab_type": "text"
      },
      "source": [
        "<a href=\"https://colab.research.google.com/github/athan37/AIT-Deeplearning/blob/main/Duc_Anh_AIT_Assessment_4.ipynb\" target=\"_parent\"><img src=\"https://colab.research.google.com/assets/colab-badge.svg\" alt=\"Open In Colab\"/></a>"
      ]
    },
    {
      "cell_type": "markdown",
      "metadata": {
        "id": "cW-EyI5Lxpqi"
      },
      "source": [
        "# Copyright\n",
        "\n",
        "<PRE>\n",
        "Copyright (c) 2023 Bálint Gyires-Tóth - All Rights Reserved\n",
        "You may use and modify this code for research and development purpuses.\n",
        "Using this code for educational purposes (self-paced or instructor led) without the permission of the author is prohibited.\n",
        "</PRE>"
      ]
    },
    {
      "cell_type": "markdown",
      "source": [
        "# Convolutional Neural Network exercise\n",
        "\n",
        "In this notebook, you will build a convolutional neural network, which offers superior results over the previous MLP solution. Additionally, you will perform a more detailed evaluation.  "
      ],
      "metadata": {
        "id": "3EX4cCa4WKJu"
      }
    },
    {
      "cell_type": "code",
      "source": [
        "# imports \n",
        "from tensorflow.keras.datasets import cifar10\n",
        "from tensorflow.keras.utils import to_categorical\n",
        "import numpy as np\n",
        "import matplotlib.pyplot as plt\n",
        "from tensorflow.keras.models import Sequential\n",
        "from tensorflow.keras.layers import Dense, Conv2D, MaxPool2D, Flatten, Dropout, BatchNormalization\n",
        "from tensorflow.keras.initializers import HeNormal\n",
        "from tensorflow.keras.callbacks import EarlyStopping"
      ],
      "metadata": {
        "id": "GdCMhy4HA2qd"
      },
      "execution_count": null,
      "outputs": []
    },
    {
      "cell_type": "markdown",
      "source": [
        "# 1. Data\n",
        "The dataset we will use is the well-known CIFAR10 (Canadian Institute For Advanced Research). Explore the details on the Keras website first: https://keras.io/api/datasets/cifar10/\n",
        "\n",
        "There isn't much difference between the data preprocessing part and the one we did before. The only difference is that we don't have to reshape images into vectors, but we are working with a 4 dimensional data structure, where the dimensions are: batch, X, Y, and color channels. \n",
        "\n",
        "In the event that anything is not clear regarding the data preparation part, please check the previous CIFAR10 notebook."
      ],
      "metadata": {
        "id": "yY9fztIeWIKt"
      }
    },
    {
      "cell_type": "code",
      "source": [
        "(X_train, Y_train), (X_test, Y_test) = cifar10.load_data()"
      ],
      "metadata": {
        "id": "bez7q0eiWQCK"
      },
      "execution_count": null,
      "outputs": []
    },
    {
      "cell_type": "code",
      "source": [
        "# it is in int8 format, the neural network requires float32\n",
        "X_train = X_train.astype(\"float32\")\n",
        "X_test = X_test.astype(\"float32\")"
      ],
      "metadata": {
        "id": "vukOcBM0XzSj"
      },
      "execution_count": null,
      "outputs": []
    },
    {
      "cell_type": "code",
      "source": [
        "train_ratio  = 0.8\n",
        "train_length = X_train.shape[0]\n",
        "train_split  = int(train_ratio*train_length)\n",
        "X_valid, Y_valid = X_train[train_split:], Y_train[train_split:]\n",
        "X_train, Y_train = X_train[:train_split], Y_train[:train_split]"
      ],
      "metadata": {
        "id": "mRwuWxxIxLgN"
      },
      "execution_count": null,
      "outputs": []
    },
    {
      "cell_type": "code",
      "source": [
        "mean = X_train.mean(axis=0)\n",
        "std  = X_train.std(axis=0)\n",
        "\n",
        "X_train = (X_train-mean)/std\n",
        "X_valid = (X_valid-mean)/std\n",
        "X_test  = (X_test-mean)/std"
      ],
      "metadata": {
        "id": "2ESLP1EIyB2J"
      },
      "execution_count": null,
      "outputs": []
    },
    {
      "cell_type": "code",
      "source": [
        "nb_classes = len(np.unique(Y_train))\n",
        "Y_train = to_categorical(Y_train, nb_classes)\n",
        "Y_valid = to_categorical(Y_valid, nb_classes)\n",
        "Y_test  = to_categorical(Y_test, nb_classes)"
      ],
      "metadata": {
        "id": "xwZ4OJ6I8lba"
      },
      "execution_count": null,
      "outputs": []
    },
    {
      "cell_type": "code",
      "source": [
        "print(\"Shapes of the training, validation and test input data:\", X_train.shape, X_valid.shape, X_test.shape)\n",
        "print(\"Shapes of the training, validation and test output data:\", Y_train.shape, Y_valid.shape, Y_test.shape)\n",
        "print(\"Mean values of the training, validation and test input data:\", X_train.mean(), X_valid.mean(), X_test.mean())\n",
        "print(\"Standard deviation of the training, validation and test input data:\", X_train.std(), X_valid.std(), X_test.std())"
      ],
      "metadata": {
        "id": "O_jdJVcvX0vi",
        "colab": {
          "base_uri": "https://localhost:8080/"
        },
        "outputId": "4edb70be-33da-48ff-e6bf-355e759dfc92"
      },
      "execution_count": null,
      "outputs": [
        {
          "output_type": "stream",
          "name": "stdout",
          "text": [
            "Shapes of the training, validation and test input data: (40000, 32, 32, 3) (10000, 32, 32, 3) (10000, 32, 32, 3)\n",
            "Shapes of the training, validation and test output data: (40000, 10) (10000, 10) (10000, 10)\n",
            "Mean values of the training, validation and test input data: 2.2788842e-09 0.0023437198 0.013331206\n",
            "Standard deviation of the training, validation and test input data: 1.0000023 0.9965626 0.99783075\n"
          ]
        }
      ]
    },
    {
      "cell_type": "markdown",
      "metadata": {
        "id": "cJ14oyZExpqj"
      },
      "source": [
        "# 2. Exercise: training"
      ]
    },
    {
      "cell_type": "markdown",
      "source": [
        "Create and train a convolutional neural network with the following requirements:\n",
        "* apply early stopping with patience=5 and monitor the validation accuracy, don't forget to load back the best weights after early stopping\n",
        "* the number of trainable parameters is lower than 200.000\n",
        "* the validation accuracy must be higher than 72%\n",
        "\n",
        "Hints:\n",
        "* you can always inspect the number of trainable parameters per layer with model.summary()\n",
        "* usually the most trainable parameters are between the last convolutional layer and the next dense layer -- so you should have a reasonable output size at the last convolutional layer\n",
        "* regularization helps (e.g. DropOut and/or BatchNormalization)\n",
        "* use the right activation function at the output layer and the corresponding loss function\n",
        "* for the chosen activation functions, please use the appropriate initialization method\n",
        "* you can match the dimension of the last conv/pooling layer to the next dense layer with e.g. Flatten()\n",
        "* ADAM optimizer is a reasonable choice \n",
        "* don't forget to turn on GPU support in Colab, otherwise, it would be quite slow to train the networks\n",
        "\n"
      ],
      "metadata": {
        "id": "j1tGVPdD-pp3"
      }
    },
    {
      "cell_type": "code",
      "source": [
        "import tensorflow as tf\n",
        "es = tf.keras.callbacks.EarlyStopping(\n",
        "    monitor=\"validation_accuracy\",\n",
        "    patience=5,\n",
        "    verbose=1,\n",
        "    restore_best_weights=True,\n",
        ") # early stopping"
      ],
      "metadata": {
        "id": "5dBQxJHIHrbd"
      },
      "execution_count": null,
      "outputs": []
    },
    {
      "cell_type": "code",
      "source": [
        "from tensorflow.keras.layers import Convolution2D, MaxPool2D, Flatten, Dense, BatchNormalization\n",
        "# model definition\n",
        "model = Sequential()\n",
        "\n",
        "model.add(Convolution2D(filters=32, kernel_size=5, activation=\"relu\", padding='same', input_shape=[32, 32, 3]))\n",
        "model.add(MaxPool2D())\n",
        "model.add(Dropout(0.25))\n",
        "model.add(Convolution2D(filters=32, kernel_size=5, activation=\"relu\", padding='same'))\n",
        "model.add(Convolution2D(filters=32, kernel_size=3, activation=\"relu\", padding='same'))\n",
        "model.add(MaxPool2D())\n",
        "model.add(Flatten())\n",
        "model.add(Dropout(0.25))\n",
        "model.add(Dense(10, activation='sigmoid', kernel_initializer='glorot_normal'))\n",
        "\n",
        "\n",
        "# loss function and optimizer\n",
        "model.compile(loss='categorical_crossentropy', optimizer='adam', metrics=['accuracy'])"
      ],
      "metadata": {
        "id": "PuxHOqLt-3Nd"
      },
      "execution_count": null,
      "outputs": []
    },
    {
      "cell_type": "code",
      "source": [
        "model.summary()"
      ],
      "metadata": {
        "id": "5eomQw8uE9Ix",
        "colab": {
          "base_uri": "https://localhost:8080/"
        },
        "outputId": "0911d201-c82f-472e-ff23-d26227a67d4f"
      },
      "execution_count": null,
      "outputs": [
        {
          "output_type": "stream",
          "name": "stdout",
          "text": [
            "Model: \"sequential\"\n",
            "_________________________________________________________________\n",
            " Layer (type)                Output Shape              Param #   \n",
            "=================================================================\n",
            " conv2d (Conv2D)             (None, 32, 32, 32)        2432      \n",
            "                                                                 \n",
            " max_pooling2d (MaxPooling2D  (None, 16, 16, 32)       0         \n",
            " )                                                               \n",
            "                                                                 \n",
            " dropout (Dropout)           (None, 16, 16, 32)        0         \n",
            "                                                                 \n",
            " conv2d_1 (Conv2D)           (None, 16, 16, 32)        25632     \n",
            "                                                                 \n",
            " conv2d_2 (Conv2D)           (None, 16, 16, 32)        9248      \n",
            "                                                                 \n",
            " max_pooling2d_1 (MaxPooling  (None, 8, 8, 32)         0         \n",
            " 2D)                                                             \n",
            "                                                                 \n",
            " flatten (Flatten)           (None, 2048)              0         \n",
            "                                                                 \n",
            " dropout_1 (Dropout)         (None, 2048)              0         \n",
            "                                                                 \n",
            " dense (Dense)               (None, 10)                20490     \n",
            "                                                                 \n",
            "=================================================================\n",
            "Total params: 57,802\n",
            "Trainable params: 57,802\n",
            "Non-trainable params: 0\n",
            "_________________________________________________________________\n"
          ]
        }
      ]
    },
    {
      "cell_type": "markdown",
      "source": [
        "Please, check the number of trainable paramers:"
      ],
      "metadata": {
        "id": "8tIbIIeTEI41"
      }
    },
    {
      "cell_type": "code",
      "source": [
        "print(\"#trainable parameters:\",model.count_params())"
      ],
      "metadata": {
        "id": "xdBAG7EJETlX",
        "colab": {
          "base_uri": "https://localhost:8080/"
        },
        "outputId": "2df56366-667a-4cf4-8052-fd93bb5d09cd"
      },
      "execution_count": null,
      "outputs": [
        {
          "output_type": "stream",
          "name": "stdout",
          "text": [
            "#trainable parameters: 57802\n"
          ]
        }
      ]
    },
    {
      "cell_type": "code",
      "source": [
        "# training\n",
        "es = tf.keras.callbacks.EarlyStopping(\n",
        "    monitor='val_accuracy',\n",
        "    patience=5,\n",
        "    restore_best_weights=True,\n",
        ")\n",
        "network_history = model.fit(X_train, Y_train, \n",
        "                            validation_data=(X_valid,Y_valid),\n",
        "                            batch_size=128,                             \n",
        "                            epochs=40, \n",
        "                            verbose=1,\n",
        "                            callbacks=[es]\n",
        "                            )"
      ],
      "metadata": {
        "id": "u8tFNCNVHyt9",
        "colab": {
          "base_uri": "https://localhost:8080/"
        },
        "outputId": "15470293-5220-446c-def9-8b31de799319"
      },
      "execution_count": null,
      "outputs": [
        {
          "output_type": "stream",
          "name": "stdout",
          "text": [
            "Epoch 1/40\n",
            "313/313 [==============================] - 14s 18ms/step - loss: 1.5937 - accuracy: 0.4254 - val_loss: 1.3118 - val_accuracy: 0.5325\n",
            "Epoch 2/40\n",
            "313/313 [==============================] - 4s 13ms/step - loss: 1.2269 - accuracy: 0.5651 - val_loss: 1.0913 - val_accuracy: 0.6173\n",
            "Epoch 3/40\n",
            "313/313 [==============================] - 3s 11ms/step - loss: 1.0661 - accuracy: 0.6265 - val_loss: 1.0197 - val_accuracy: 0.6446\n",
            "Epoch 4/40\n",
            "313/313 [==============================] - 3s 10ms/step - loss: 0.9870 - accuracy: 0.6531 - val_loss: 0.9212 - val_accuracy: 0.6809\n",
            "Epoch 5/40\n",
            "313/313 [==============================] - 3s 9ms/step - loss: 0.9276 - accuracy: 0.6746 - val_loss: 0.8850 - val_accuracy: 0.6904\n",
            "Epoch 6/40\n",
            "313/313 [==============================] - 3s 10ms/step - loss: 0.8778 - accuracy: 0.6908 - val_loss: 0.8940 - val_accuracy: 0.6905\n",
            "Epoch 7/40\n",
            "313/313 [==============================] - 3s 9ms/step - loss: 0.8417 - accuracy: 0.7077 - val_loss: 0.8243 - val_accuracy: 0.7131\n",
            "Epoch 8/40\n",
            "313/313 [==============================] - 3s 9ms/step - loss: 0.8049 - accuracy: 0.7202 - val_loss: 0.8331 - val_accuracy: 0.7149\n",
            "Epoch 9/40\n",
            "313/313 [==============================] - 3s 9ms/step - loss: 0.7796 - accuracy: 0.7280 - val_loss: 0.8430 - val_accuracy: 0.7083\n",
            "Epoch 10/40\n",
            "313/313 [==============================] - 3s 11ms/step - loss: 0.7576 - accuracy: 0.7358 - val_loss: 0.8021 - val_accuracy: 0.7220\n",
            "Epoch 11/40\n",
            "313/313 [==============================] - 3s 9ms/step - loss: 0.7310 - accuracy: 0.7478 - val_loss: 0.7920 - val_accuracy: 0.7271\n",
            "Epoch 12/40\n",
            "313/313 [==============================] - 3s 9ms/step - loss: 0.7115 - accuracy: 0.7499 - val_loss: 0.7802 - val_accuracy: 0.7348\n",
            "Epoch 13/40\n",
            "313/313 [==============================] - 3s 9ms/step - loss: 0.6939 - accuracy: 0.7598 - val_loss: 0.7958 - val_accuracy: 0.7278\n",
            "Epoch 14/40\n",
            "313/313 [==============================] - 3s 10ms/step - loss: 0.6899 - accuracy: 0.7592 - val_loss: 0.7690 - val_accuracy: 0.7384\n",
            "Epoch 15/40\n",
            "313/313 [==============================] - 3s 9ms/step - loss: 0.6735 - accuracy: 0.7623 - val_loss: 0.7611 - val_accuracy: 0.7398\n",
            "Epoch 16/40\n",
            "313/313 [==============================] - 3s 9ms/step - loss: 0.6635 - accuracy: 0.7685 - val_loss: 0.7530 - val_accuracy: 0.7433\n",
            "Epoch 17/40\n",
            "313/313 [==============================] - 3s 9ms/step - loss: 0.6512 - accuracy: 0.7739 - val_loss: 0.7615 - val_accuracy: 0.7428\n",
            "Epoch 18/40\n",
            "313/313 [==============================] - 3s 11ms/step - loss: 0.6416 - accuracy: 0.7751 - val_loss: 0.7767 - val_accuracy: 0.7344\n",
            "Epoch 19/40\n",
            "313/313 [==============================] - 3s 9ms/step - loss: 0.6232 - accuracy: 0.7807 - val_loss: 0.7373 - val_accuracy: 0.7515\n",
            "Epoch 20/40\n",
            "313/313 [==============================] - 3s 9ms/step - loss: 0.6172 - accuracy: 0.7833 - val_loss: 0.7321 - val_accuracy: 0.7514\n",
            "Epoch 21/40\n",
            "313/313 [==============================] - 3s 9ms/step - loss: 0.6180 - accuracy: 0.7825 - val_loss: 0.7484 - val_accuracy: 0.7451\n",
            "Epoch 22/40\n",
            "313/313 [==============================] - 3s 10ms/step - loss: 0.6093 - accuracy: 0.7861 - val_loss: 0.7305 - val_accuracy: 0.7517\n",
            "Epoch 23/40\n",
            "313/313 [==============================] - 3s 9ms/step - loss: 0.6070 - accuracy: 0.7877 - val_loss: 0.7295 - val_accuracy: 0.7529\n",
            "Epoch 24/40\n",
            "313/313 [==============================] - 3s 9ms/step - loss: 0.5945 - accuracy: 0.7916 - val_loss: 0.7386 - val_accuracy: 0.7531\n",
            "Epoch 25/40\n",
            "313/313 [==============================] - 3s 9ms/step - loss: 0.5889 - accuracy: 0.7917 - val_loss: 0.7435 - val_accuracy: 0.7508\n",
            "Epoch 26/40\n",
            "313/313 [==============================] - 3s 9ms/step - loss: 0.5805 - accuracy: 0.7948 - val_loss: 0.7363 - val_accuracy: 0.7523\n",
            "Epoch 27/40\n",
            "313/313 [==============================] - 3s 10ms/step - loss: 0.5713 - accuracy: 0.7970 - val_loss: 0.7300 - val_accuracy: 0.7544\n",
            "Epoch 28/40\n",
            "313/313 [==============================] - 3s 9ms/step - loss: 0.5712 - accuracy: 0.7985 - val_loss: 0.7348 - val_accuracy: 0.7522\n",
            "Epoch 29/40\n",
            "313/313 [==============================] - 3s 9ms/step - loss: 0.5710 - accuracy: 0.7991 - val_loss: 0.7518 - val_accuracy: 0.7472\n",
            "Epoch 30/40\n",
            "313/313 [==============================] - 3s 9ms/step - loss: 0.5600 - accuracy: 0.8031 - val_loss: 0.7426 - val_accuracy: 0.7567\n",
            "Epoch 31/40\n",
            "313/313 [==============================] - 3s 10ms/step - loss: 0.5605 - accuracy: 0.8007 - val_loss: 0.7540 - val_accuracy: 0.7530\n",
            "Epoch 32/40\n",
            "313/313 [==============================] - 3s 10ms/step - loss: 0.5537 - accuracy: 0.8022 - val_loss: 0.7304 - val_accuracy: 0.7619\n",
            "Epoch 33/40\n",
            "313/313 [==============================] - 3s 9ms/step - loss: 0.5415 - accuracy: 0.8086 - val_loss: 0.7300 - val_accuracy: 0.7588\n",
            "Epoch 34/40\n",
            "313/313 [==============================] - 3s 9ms/step - loss: 0.5460 - accuracy: 0.8051 - val_loss: 0.7360 - val_accuracy: 0.7581\n",
            "Epoch 35/40\n",
            "313/313 [==============================] - 3s 11ms/step - loss: 0.5407 - accuracy: 0.8080 - val_loss: 0.7249 - val_accuracy: 0.7614\n",
            "Epoch 36/40\n",
            "313/313 [==============================] - 3s 9ms/step - loss: 0.5434 - accuracy: 0.8070 - val_loss: 0.7315 - val_accuracy: 0.7550\n",
            "Epoch 37/40\n",
            "313/313 [==============================] - 3s 9ms/step - loss: 0.5399 - accuracy: 0.8095 - val_loss: 0.7477 - val_accuracy: 0.7559\n"
          ]
        }
      ]
    },
    {
      "cell_type": "markdown",
      "source": [
        "# 3. Exercise: evaluation on test data\n",
        "You will evaluate the classification of the test data using the common metrics and the confusion matrix in this section. \n",
        "\n",
        "\n",
        "As a first stes, let's run the predictions and convert the predicted softmax outputs to dense labels. The one-hot encoded labels are also converted back to dense labels, as they are required for the evaluation functions."
      ],
      "metadata": {
        "id": "2FtKp-a2-A9m"
      }
    },
    {
      "cell_type": "code",
      "source": [
        "probas = model.predict(X_test)\n",
        "preds  = np.argmax(probas,axis=1)\n",
        "Y_test_dense = np.argmax(Y_test, axis=1) # get the original dense labels of the test data"
      ],
      "metadata": {
        "id": "EcWAqwlDMq3y",
        "colab": {
          "base_uri": "https://localhost:8080/"
        },
        "outputId": "8baf5d7d-6b52-42cd-ee1b-d21a5b05c3bb"
      },
      "execution_count": null,
      "outputs": [
        {
          "output_type": "stream",
          "name": "stdout",
          "text": [
            "313/313 [==============================] - 1s 2ms/step\n"
          ]
        }
      ]
    },
    {
      "cell_type": "code",
      "source": [
        "Y_test, preds, Y_test_dense"
      ],
      "metadata": {
        "colab": {
          "base_uri": "https://localhost:8080/"
        },
        "id": "u0jSknLVwsJz",
        "outputId": "c0d995c1-92ab-44cc-9ed7-2d30aa697100"
      },
      "execution_count": null,
      "outputs": [
        {
          "output_type": "execute_result",
          "data": {
            "text/plain": [
              "(array([[0., 0., 0., ..., 0., 0., 0.],\n",
              "        [0., 0., 0., ..., 0., 1., 0.],\n",
              "        [0., 0., 0., ..., 0., 1., 0.],\n",
              "        ...,\n",
              "        [0., 0., 0., ..., 0., 0., 0.],\n",
              "        [0., 1., 0., ..., 0., 0., 0.],\n",
              "        [0., 0., 0., ..., 1., 0., 0.]], dtype=float32),\n",
              " array([3, 8, 8, ..., 5, 0, 7]),\n",
              " array([3, 8, 8, ..., 5, 1, 7]))"
            ]
          },
          "metadata": {},
          "execution_count": 14
        }
      ]
    },
    {
      "cell_type": "markdown",
      "source": [
        "## 3.1. Exercise: Metrics\n",
        "please review the common classification metrics (accuracy, precision, recall, F1) for the complete model (not per class). \n",
        "\n",
        "Hints:\n",
        "* use macro averaging\n",
        "* you have to import the right functions from [sklearn.metrics](https://scikit-learn.org/stable/modules/model_evaluation.html)\n"
      ],
      "metadata": {
        "id": "RWJ-PH_iMs9K"
      }
    },
    {
      "cell_type": "code",
      "source": [
        "from sklearn.metrics import accuracy_score, precision_score, recall_score, f1_score"
      ],
      "metadata": {
        "id": "5sKm5zHSMZ_x"
      },
      "execution_count": null,
      "outputs": []
    },
    {
      "cell_type": "code",
      "source": [
        "print(\"Accuracy:\",accuracy_score(preds, Y_test_dense))\n",
        "print(\"Precision:\", precision_score(preds, Y_test_dense, average='macro'))\n",
        "print(\"Recall:\", recall_score(preds, Y_test_dense, average='macro'))\n",
        "print(\"F1:\", f1_score(preds, Y_test_dense, average='macro'))"
      ],
      "metadata": {
        "id": "I3_9wgDREUna",
        "colab": {
          "base_uri": "https://localhost:8080/"
        },
        "outputId": "c2fb3402-431b-4dc4-cf65-178147a7d4e4"
      },
      "execution_count": null,
      "outputs": [
        {
          "output_type": "stream",
          "name": "stdout",
          "text": [
            "Accuracy: 0.75\n",
            "Precision: 0.75\n",
            "Recall: 0.7507588021798731\n",
            "F1: 0.7489286971405578\n"
          ]
        }
      ]
    },
    {
      "cell_type": "markdown",
      "source": [
        "\n",
        "## 3.2. Exercise: Confusion matrix\n",
        "Calculate the confusion matrix and display the results in a heatmap (with decimal values).\n",
        "\n",
        "Hints:\n",
        "* you have to do the imports this time too, e.g. from [sklearn.metrics](https://scikit-learn.org/stable/modules/model_evaluation.html) and the [heatmap function](https://seaborn.pydata.org/generated/seaborn.heatmap.html) of [seaborn](https://seaborn.pydata.org/)\n",
        "* for displaying the decimal values, you have to turn annot=True and define fmt='d' in the heatmap function of seaborn"
      ],
      "metadata": {
        "id": "ECHguBFtGL7f"
      }
    },
    {
      "cell_type": "code",
      "source": [
        "from sklearn.metrics import confusion_matrix\n",
        "import seaborn as sns"
      ],
      "metadata": {
        "id": "SIi2VzMBO3yD"
      },
      "execution_count": null,
      "outputs": []
    },
    {
      "cell_type": "code",
      "metadata": {
        "id": "cdqODx92Svw7",
        "colab": {
          "base_uri": "https://localhost:8080/",
          "height": 392
        },
        "outputId": "aa2ffb92-c52b-48b1-b9cb-469790ace064"
      },
      "source": [
        "conf = confusion_matrix(preds, Y_test_dense)\n",
        "plt.figure(figsize=(7,6))\n",
        "sns.heatmap(conf, annot=True, fmt='d')"
      ],
      "execution_count": null,
      "outputs": [
        {
          "output_type": "execute_result",
          "data": {
            "text/plain": [
              "<Axes: >"
            ]
          },
          "metadata": {},
          "execution_count": 18
        },
        {
          "output_type": "display_data",
          "data": {
            "text/plain": [
              "<Figure size 504x432 with 2 Axes>"
            ],
            "image/png": "[encoded data removed]"
          },
          "metadata": {
            "needs_background": "light"
          }
        }
      ]
    },
    {
      "cell_type": "code",
      "source": [],
      "metadata": {
        "id": "62wr8RizzDnj"
      },
      "execution_count": null,
      "outputs": []
    }
  ]
}